{
  "cells": [
    {
      "cell_type": "markdown",
      "metadata": {
        "id": "view-in-github",
        "colab_type": "text"
      },
      "source": [
        "<a href=\"https://colab.research.google.com/github/gsakkar/ML/blob/main/feature-engineering/feature-eng.ipynb\" target=\"_parent\"><img src=\"https://colab.research.google.com/assets/colab-badge.svg\" alt=\"Open In Colab\"/></a>"
      ]
    },
    {
      "cell_type": "markdown",
      "metadata": {
        "id": "c8NZ2JiLDFqk"
      },
      "source": [
        "# Feature Engineering: A Comprehensive Guide with Examples and ML Terminology\n",
        "\n",
        "In the realm of machine learning (ML) and data science, the process of creating a successful model often hinges on the quality of the features used. This is where feature engineering comes into play – it's the art and science of transforming raw data into informative features that can significantly enhance the performance of ML algorithms.\n",
        "\n",
        "## Key ML Terminology\n",
        "\n",
        "Before we dive into specific techniques, let's clarify some key machine learning terms:\n",
        "\n",
        "1. **Feature**: An individual measurable property or characteristic of a phenomenon being observed. In ML, features are the input variables used to make predictions.\n",
        "\n",
        "2. **Target Variable**: The output variable that the ML model is trying to predict.\n",
        "\n",
        "3. **Supervised Learning**: A type of ML where the model is trained on labeled data, learning to map input features to known output values.\n",
        "\n",
        "4. **Unsupervised Learning**: A type of ML where the model is trained on unlabeled data, trying to find patterns or structures within the data.\n",
        "\n",
        "5. **Overfitting**: When a model learns the training data too well, including its noise and peculiarities, leading to poor generalization on new, unseen data.\n",
        "\n",
        "6. **Underfitting**: When a model is too simple to capture the underlying structure of the data, leading to poor performance on both training and new data."
      ]
    },
    {
      "cell_type": "markdown",
      "source": [
        "# Install Dependencies and Import libraies"
      ],
      "metadata": {
        "id": "g7FupHEWDYSy"
      }
    },
    {
      "cell_type": "code",
      "source": [
        "!pip install pandas numpy matplotlib seaborn scikit-learn category_encoders"
      ],
      "metadata": {
        "id": "IJu2ZcBODRak",
        "outputId": "c6562715-c9a6-4462-9764-35456f851cee",
        "colab": {
          "base_uri": "https://localhost:8080/"
        }
      },
      "execution_count": 29,
      "outputs": [
        {
          "output_type": "stream",
          "name": "stdout",
          "text": [
            "Requirement already satisfied: pandas in /usr/local/lib/python3.10/dist-packages (2.0.3)\n",
            "Requirement already satisfied: numpy in /usr/local/lib/python3.10/dist-packages (1.25.2)\n",
            "Requirement already satisfied: matplotlib in /usr/local/lib/python3.10/dist-packages (3.7.1)\n",
            "Requirement already satisfied: seaborn in /usr/local/lib/python3.10/dist-packages (0.13.1)\n",
            "Requirement already satisfied: scikit-learn in /usr/local/lib/python3.10/dist-packages (1.2.2)\n",
            "Requirement already satisfied: category_encoders in /usr/local/lib/python3.10/dist-packages (2.6.3)\n",
            "Requirement already satisfied: python-dateutil>=2.8.2 in /usr/local/lib/python3.10/dist-packages (from pandas) (2.8.2)\n",
            "Requirement already satisfied: pytz>=2020.1 in /usr/local/lib/python3.10/dist-packages (from pandas) (2023.4)\n",
            "Requirement already satisfied: tzdata>=2022.1 in /usr/local/lib/python3.10/dist-packages (from pandas) (2024.1)\n",
            "Requirement already satisfied: contourpy>=1.0.1 in /usr/local/lib/python3.10/dist-packages (from matplotlib) (1.2.1)\n",
            "Requirement already satisfied: cycler>=0.10 in /usr/local/lib/python3.10/dist-packages (from matplotlib) (0.12.1)\n",
            "Requirement already satisfied: fonttools>=4.22.0 in /usr/local/lib/python3.10/dist-packages (from matplotlib) (4.53.0)\n",
            "Requirement already satisfied: kiwisolver>=1.0.1 in /usr/local/lib/python3.10/dist-packages (from matplotlib) (1.4.5)\n",
            "Requirement already satisfied: packaging>=20.0 in /usr/local/lib/python3.10/dist-packages (from matplotlib) (24.1)\n",
            "Requirement already satisfied: pillow>=6.2.0 in /usr/local/lib/python3.10/dist-packages (from matplotlib) (9.4.0)\n",
            "Requirement already satisfied: pyparsing>=2.3.1 in /usr/local/lib/python3.10/dist-packages (from matplotlib) (3.1.2)\n",
            "Requirement already satisfied: scipy>=1.3.2 in /usr/local/lib/python3.10/dist-packages (from scikit-learn) (1.11.4)\n",
            "Requirement already satisfied: joblib>=1.1.1 in /usr/local/lib/python3.10/dist-packages (from scikit-learn) (1.4.2)\n",
            "Requirement already satisfied: threadpoolctl>=2.0.0 in /usr/local/lib/python3.10/dist-packages (from scikit-learn) (3.5.0)\n",
            "Requirement already satisfied: statsmodels>=0.9.0 in /usr/local/lib/python3.10/dist-packages (from category_encoders) (0.14.2)\n",
            "Requirement already satisfied: patsy>=0.5.1 in /usr/local/lib/python3.10/dist-packages (from category_encoders) (0.5.6)\n",
            "Requirement already satisfied: six in /usr/local/lib/python3.10/dist-packages (from patsy>=0.5.1->category_encoders) (1.16.0)\n"
          ]
        }
      ]
    },
    {
      "cell_type": "code",
      "execution_count": 30,
      "metadata": {
        "id": "QY9MvCS6DFql"
      },
      "outputs": [],
      "source": [
        "import pandas as pd\n",
        "import numpy as np\n",
        "import matplotlib.pyplot as plt\n",
        "import seaborn as sns\n",
        "from sklearn.preprocessing import StandardScaler, OneHotEncoder, LabelEncoder\n",
        "from sklearn.impute import SimpleImputer\n",
        "from sklearn.feature_selection import SelectKBest, f_regression\n",
        "from sklearn.decomposition import PCA, TruncatedSVD\n",
        "from sklearn.manifold import TSNE\n",
        "from category_encoders import BinaryEncoder, TargetEncoder\n",
        "\n",
        "# Set random seed for reproducibility\n",
        "np.random.seed(42)"
      ]
    },
    {
      "cell_type": "markdown",
      "metadata": {
        "id": "P-IIcC67DFql"
      },
      "source": [
        "## Setting Up Our Example\n",
        "\n",
        "Let's create a sample dataset to work with. This dataset will include various types of features that we'll use to demonstrate different feature engineering techniques."
      ]
    },
    {
      "cell_type": "code",
      "execution_count": 36,
      "metadata": {
        "id": "VG0nwFtDDFqm",
        "outputId": "cf8d3661-4f09-450d-d823-3fd365ab33df",
        "colab": {
          "base_uri": "https://localhost:8080/"
        }
      },
      "outputs": [
        {
          "output_type": "stream",
          "name": "stdout",
          "text": [
            "Original Data:\n",
            "   age  income education job_category  credit_score  has_car favorite_color\n",
            "0   47  119477       PhD          Mid         363.0     True          Green\n",
            "1   36  146083  Bachelor       Senior         529.0     True           Blue\n",
            "2   66  132698  Bachelor          Mid           NaN     True          Green\n",
            "3   42  131560    Master          Mid         545.0     True         Purple\n",
            "4   33  151907  Bachelor       Senior         456.0    False         Yellow\n",
            "\n",
            "Data Info:\n",
            "<class 'pandas.core.frame.DataFrame'>\n",
            "RangeIndex: 1000 entries, 0 to 999\n",
            "Data columns (total 7 columns):\n",
            " #   Column          Non-Null Count  Dtype  \n",
            "---  ------          --------------  -----  \n",
            " 0   age             1000 non-null   int64  \n",
            " 1   income          1000 non-null   int64  \n",
            " 2   education       1000 non-null   object \n",
            " 3   job_category    1000 non-null   object \n",
            " 4   credit_score    951 non-null    float64\n",
            " 5   has_car         1000 non-null   bool   \n",
            " 6   favorite_color  1000 non-null   object \n",
            "dtypes: bool(1), float64(1), int64(2), object(3)\n",
            "memory usage: 48.0+ KB\n",
            "None\n"
          ]
        }
      ],
      "source": [
        "# Create sample data\n",
        "data = pd.DataFrame({\n",
        "    'age': np.random.randint(18, 70, 1000),\n",
        "    'income': np.random.randint(20000, 200000, 1000),\n",
        "    'education': np.random.choice(['High School', 'Bachelor', 'Master', 'PhD'], 1000),\n",
        "    'job_category': np.random.choice(['Entry', 'Mid', 'Senior', 'Executive'], 1000),\n",
        "    'credit_score': np.random.randint(300, 850, 1000),\n",
        "    'has_car': np.random.choice([True, False], 1000),\n",
        "    'favorite_color': np.random.choice(['Blue', 'Red', 'Green', 'Yellow', 'Purple'], 1000)\n",
        "})\n",
        "\n",
        "# Add some missing values\n",
        "data.loc[np.random.choice(data.index, 50), 'credit_score'] = np.nan\n",
        "\n",
        "print(\"Original Data:\")\n",
        "print(data.head())\n",
        "print(\"\\nData Info:\")\n",
        "print(data.info())"
      ]
    },
    {
      "cell_type": "markdown",
      "metadata": {
        "id": "Oet2h53aDFqm"
      },
      "source": [
        "## 1. Feature Creation\n",
        "\n",
        "Feature creation involves generating new features from existing ones. This process often leverages domain knowledge to capture important relationships or characteristics in the data that might not be immediately apparent.\n",
        "\n",
        "Example: Let's create an 'income_per_age' feature, which might capture how efficiently a person earns income relative to their age."
      ]
    },
    {
      "cell_type": "code",
      "execution_count": 37,
      "metadata": {
        "id": "HOqPBN1SDFqm",
        "outputId": "38c0bd89-967c-49fd-aff0-0863fb9d8461",
        "colab": {
          "base_uri": "https://localhost:8080/"
        }
      },
      "outputs": [
        {
          "output_type": "stream",
          "name": "stdout",
          "text": [
            "Feature Creation - income_per_age:\n",
            "   age  income  income_per_age\n",
            "0   47  119477     2542.063830\n",
            "1   36  146083     4057.861111\n",
            "2   66  132698     2010.575758\n",
            "3   42  131560     3132.380952\n",
            "4   33  151907     4603.242424\n"
          ]
        }
      ],
      "source": [
        "data['income_per_age'] = data['income'] / data['age']\n",
        "print(\"Feature Creation - income_per_age:\")\n",
        "print(data[['age', 'income', 'income_per_age']].head())"
      ]
    },
    {
      "cell_type": "markdown",
      "metadata": {
        "id": "XchGhBZnDFqm"
      },
      "source": [
        "## 2. Feature Transformation\n",
        "\n",
        "Feature transformation involves changing the scale or distribution of a feature. This can help in meeting the assumptions of ML algorithms or in revealing non-linear relationships.\n",
        "\n",
        "Example: Let's apply a log transformation to 'income'. This can be useful for handling skewed data or when we expect the impact of income to be multiplicative rather than additive."
      ]
    },
    {
      "cell_type": "code",
      "execution_count": 35,
      "metadata": {
        "id": "1qLR5Q0NDFqm",
        "outputId": "b949255f-7e61-4c2e-9756-d310fdd214d2",
        "colab": {
          "base_uri": "https://localhost:8080/",
          "height": 681
        }
      },
      "outputs": [
        {
          "output_type": "display_data",
          "data": {
            "text/plain": [
              "<Figure size 1200x500 with 2 Axes>"
            ],
            "image/png": "[encoded data removed]"
          },
          "metadata": {}
        },
        {
          "output_type": "stream",
          "name": "stdout",
          "text": [
            "Feature Transformation - log_income:\n",
            "              income   log_income\n",
            "count    1000.000000  1000.000000\n",
            "mean   111997.235000    11.483327\n",
            "std     51939.915968     0.583490\n",
            "min     20126.000000     9.909768\n",
            "25%     67569.000000    11.120903\n",
            "50%    111508.000000    11.621851\n",
            "75%    157077.250000    11.964493\n",
            "max    199917.000000    12.205658\n"
          ]
        }
      ],
      "source": [
        "data['log_income'] = np.log(data['income'])\n",
        "\n",
        "plt.figure(figsize=(12, 5))\n",
        "plt.subplot(121)\n",
        "sns.histplot(data['income'], kde=True)\n",
        "plt.title('Income Distribution')\n",
        "plt.subplot(122)\n",
        "sns.histplot(data['log_income'], kde=True)\n",
        "plt.title('Log Income Distribution')\n",
        "plt.tight_layout()\n",
        "plt.show()\n",
        "\n",
        "print(\"Feature Transformation - log_income:\")\n",
        "print(data[['income', 'log_income']].describe())"
      ]
    },
    {
      "cell_type": "markdown",
      "metadata": {
        "id": "0oU5r5y5DFqm"
      },
      "source": [
        "## 3. Handling Categorical Variables\n",
        "\n",
        "Many ML algorithms require numerical input, so we need to convert categorical data into a numerical format. There are several techniques for this:"
      ]
    },
    {
      "cell_type": "markdown",
      "metadata": {
        "id": "C0pUyaBcDFqn"
      },
      "source": [
        "### a. One-Hot Encoding\n",
        "\n",
        "One-hot encoding creates binary columns for each category. It's suitable for nominal categorical variables with no inherent order."
      ]
    },
    {
      "cell_type": "code",
      "execution_count": null,
      "metadata": {
        "id": "8YHednleDFqn"
      },
      "outputs": [],
      "source": [
        "onehot = OneHotEncoder(sparse=False)\n",
        "education_encoded = onehot.fit_transform(data[['education']])\n",
        "education_df = pd.DataFrame(education_encoded, columns=onehot.get_feature_names_out(['education']))\n",
        "print(\"One-Hot Encoding - education:\")\n",
        "print(education_df.head())"
      ]
    },
    {
      "cell_type": "markdown",
      "metadata": {
        "id": "gA0LtLsRDFqn"
      },
      "source": [
        "### b. Label Encoding\n",
        "\n",
        "Label encoding assigns a unique integer to each category. It's suitable for ordinal categorical variables where there's a clear order to the categories."
      ]
    },
    {
      "cell_type": "code",
      "execution_count": null,
      "metadata": {
        "id": "9iS168FKDFqn"
      },
      "outputs": [],
      "source": [
        "le = LabelEncoder()\n",
        "data['job_category_encoded'] = le.fit_transform(data['job_category'])\n",
        "print(\"Label Encoding - job_category:\")\n",
        "print(data[['job_category', 'job_category_encoded']].head())"
      ]
    },
    {
      "cell_type": "markdown",
      "metadata": {
        "id": "6b7cjeQ5DFqn"
      },
      "source": [
        "### c. Binary Encoding\n",
        "\n",
        "Binary encoding represents each category as a binary number, then splits the bits into separate columns. This can be more memory-efficient than one-hot encoding for categorical variables with many categories."
      ]
    },
    {
      "cell_type": "code",
      "execution_count": null,
      "metadata": {
        "id": "p6clgAthDFqn"
      },
      "outputs": [],
      "source": [
        "be = BinaryEncoder(cols=['favorite_color'])\n",
        "color_binary = be.fit_transform(data['favorite_color'])\n",
        "print(\"Binary Encoding - favorite_color:\")\n",
        "print(color_binary.head())"
      ]
    },
    {
      "cell_type": "markdown",
      "metadata": {
        "id": "OLFAB5gbDFqn"
      },
      "source": [
        "### d. Target Encoding\n",
        "\n",
        "Target encoding replaces a categorical value with the mean of the target variable for that value. This can be particularly useful when there's a strong relationship between the categorical variable and the target."
      ]
    },
    {
      "cell_type": "code",
      "execution_count": null,
      "metadata": {
        "id": "hyG_om0dDFqn"
      },
      "outputs": [],
      "source": [
        "te = TargetEncoder(cols=['education'])\n",
        "data['education_target_encoded'] = te.fit_transform(data['education'], data['income'])\n",
        "print(\"Target Encoding - education (using income as target):\")\n",
        "print(data[['education', 'education_target_encoded']].head())"
      ]
    },
    {
      "cell_type": "markdown",
      "metadata": {
        "id": "yjhOh4x5DFqn"
      },
      "source": [
        "## 4. Feature Scaling\n",
        "\n",
        "Feature scaling is crucial when features have different ranges. It ensures that all features contribute equally to the model's decision-making process. StandardScaler is one common method that standardizes features by removing the mean and scaling to unit variance."
      ]
    },
    {
      "cell_type": "code",
      "execution_count": null,
      "metadata": {
        "id": "bsZOrLN1DFqn"
      },
      "outputs": [],
      "source": [
        "scaler = StandardScaler()\n",
        "data['scaled_age'] = scaler.fit_transform(data[['age']])\n",
        "print(\"Feature Scaling - age:\")\n",
        "print(data[['age', 'scaled_age']].describe())"
      ]
    },
    {
      "cell_type": "markdown",
      "metadata": {
        "id": "B8QQVSneDFqo"
      },
      "source": [
        "## 5. Handling Missing Values\n",
        "\n",
        "Missing values can be problematic for many ML algorithms. Imputation is one way to handle this issue. Here, we're using mean imputation, which replaces missing values with the mean of the column."
      ]
    },
    {
      "cell_type": "code",
      "execution_count": null,
      "metadata": {
        "id": "U-_2x1U7DFqo"
      },
      "outputs": [],
      "source": [
        "imputer = SimpleImputer(strategy='mean')\n",
        "data['credit_score_imputed'] = imputer.fit_transform(data[['credit_score']])\n",
        "\n",
        "print(\"Handling Missing Values - credit_score:\")\n",
        "print(\"Original credit_score:\")\n",
        "print(data['credit_score'].describe())\n",
        "print(\"\\nImputed credit_score:\")\n",
        "print(data['credit_score_imputed'].describe())"
      ]
    },
    {
      "cell_type": "markdown",
      "metadata": {
        "id": "xjV7vxLGDFqo"
      },
      "source": [
        "## 6. Feature Selection\n",
        "\n",
        "Feature selection is the process of selecting a subset of relevant features for use in model construction. It can help in reducing overfitting, improving accuracy, and reducing training time."
      ]
    },
    {
      "cell_type": "code",
      "execution_count": null,
      "metadata": {
        "id": "qNAF4UBADFqo"
      },
      "outputs": [],
      "source": [
        "X = data[['age', 'income', 'credit_score_imputed']]\n",
        "y = data['income_per_age']\n",
        "selector = SelectKBest(score_func=f_regression, k=2)\n",
        "X_selected = selector.fit_transform(X, y)\n",
        "selected_features = X.columns[selector.get_support()].tolist()\n",
        "print(\"Feature Selection:\")\n",
        "print(\"Selected features:\", selected_features)"
      ]
    },
    {
      "cell_type": "markdown",
      "metadata": {
        "id": "DzH_vZQZDFqo"
      },
      "source": [
        "## 7. Dimensionality Reduction\n",
        "\n",
        "Dimensionality reduction techniques can help in reducing the number of features while preserving most of the information. This can be useful for visualization, reducing computational complexity, and mitigating the curse of dimensionality."
      ]
    },
    {
      "cell_type": "markdown",
      "metadata": {
        "id": "cVXEpjdeDFqo"
      },
      "source": [
        "### a. Principal Component Analysis (PCA)\n",
        "\n",
        "PCA is a linear dimensionality reduction technique that finds the directions of maximum variance in high-dimensional data and projects it onto a lower dimensional subspace."
      ]
    },
    {
      "cell_type": "code",
      "execution_count": null,
      "metadata": {
        "id": "QdNrAcBiDFqo"
      },
      "outputs": [],
      "source": [
        "pca = PCA(n_components=2)\n",
        "X_pca = pca.fit_transform(X)\n",
        "\n",
        "plt.figure(figsize=(10, 8))\n",
        "plt.scatter(X_pca[:, 0], X_pca[:, 1], alpha=0.5)\n",
        "plt.title('PCA of Numeric Features')\n",
        "plt.xlabel('First Principal Component')\n",
        "plt.ylabel('Second Principal Component')\n",
        "plt.show()\n",
        "\n",
        "print(\"PCA:\")\n",
        "print(\"Explained variance ratio:\", pca.explained_variance_ratio_)"
      ]
    },
    {
      "cell_type": "markdown",
      "metadata": {
        "id": "9HUkB2ieDFqo"
      },
      "source": [
        "### b. Truncated SVD\n",
        "\n",
        "Truncated SVD is similar to PCA but can be applied to sparse matrices. It's particularly useful when dealing with high-dimensional data that may be sparse, such as in text processing or collaborative filtering."
      ]
    },
    {
      "cell_type": "code",
      "execution_count": null,
      "metadata": {
        "id": "QkeqS5eiDFqo"
      },
      "outputs": [],
      "source": [
        "svd = TruncatedSVD(n_components=2, random_state=42)\n",
        "X_svd = svd.fit_transform(X)\n",
        "\n",
        "plt.figure(figsize=(10, 8))\n",
        "plt.scatter(X_svd[:, 0], X_svd[:, 1], alpha=0.5)\n",
        "plt.title('Truncated SVD of Numeric Features')\n",
        "plt.xlabel('First SVD Component')\n",
        "plt.ylabel('Second SVD Component')\n",
        "plt.show()\n",
        "\n",
        "print(\"Truncated SVD:\")\n",
        "print(\"Explained variance ratio:\", svd.explained_variance_ratio_)"
      ]
    },
    {
      "cell_type": "markdown",
      "metadata": {
        "id": "Z-P8AaOGDFqo"
      },
      "source": [
        "### c. t-SNE\n",
        "\n",
        "t-SNE (t-Distributed Stochastic Neighbor Embedding) is a nonlinear dimensionality reduction technique, particularly well suited for the visualization of high-dimensional datasets. Unlike PCA and SVD, t-SNE aims to preserve local structure, making it excellent for visualizing clusters or groups in data."
      ]
    },
    {
      "cell_type": "code",
      "execution_count": null,
      "metadata": {
        "id": "07JkcjN5DFqo"
      },
      "outputs": [],
      "source": [
        "tsne = TSNE(n_components=2, random_state=42)\n",
        "X_tsne = tsne.fit_transform(X)\n",
        "\n",
        "plt.figure(figsize=(10, 8))\n",
        "plt.scatter(X_tsne[:, 0], X_tsne[:, 1], alpha=0.5)\n",
        "plt.title('t-SNE of Numeric Features')\n",
        "plt.xlabel('First t-SNE Component')\n",
        "plt.ylabel('Second t-SNE Component')\n",
        "plt.show()\n",
        "\n",
        "print(\"t-SNE:\")\n",
        "print(\"Note: t-SNE does not provide an explained variance ratio as it's a non-linear method.\")"
      ]
    },
    {
      "cell_type": "markdown",
      "metadata": {
        "id": "kCgbDpfjDFqp"
      },
      "source": [
        "## Conclusion\n",
        "\n",
        "In this comprehensive guide, we've explored various feature engineering techniques:\n",
        "\n",
        "1. Feature Creation: We created 'income_per_age' to capture earning efficiency.\n",
        "2. Feature Transformation: We applied log transformation to 'income' to handle skewness.\n",
        "3. Handling Categorical Variables: We demonstrated one-hot encoding, label encoding, binary encoding, and target encoding.\n",
        "4. Feature Scaling: We standardized the 'age' feature.\n",
        "5. Handling Missing Values: We used mean imputation for 'credit_score'.\n",
        "6. Feature Selection: We selected the most relevant features using SelectKBest.\n",
        "7. Dimensionality Reduction: We explored PCA, Truncated SVD, and t-SNE for reducing feature space and visualization.\n",
        "\n",
        "Each of these techniques serves a specific purpose in preparing data for machine learning models. The choice of which techniques to use depends on your specific dataset, the nature of your features, and the requirements of your chosen machine learning algorithm.\n",
        "\n",
        "Remember, feature engineering is both an art and a science. It requires creativity, domain knowledge, and a good understanding of your data and the problem you're trying to solve. Experimentation and iteration are key to finding the best set of features for your specific machine learning task."
      ]
    },
    {
      "cell_type": "code",
      "execution_count": null,
      "metadata": {
        "id": "GQ1ijfp-DFqp"
      },
      "outputs": [],
      "source": [
        "# Display final processed data\n",
        "print(\"Final Processed Data:\")\n",
        "print(data.head())\n",
        "print(\"\\nFinal Data Info:\")\n",
        "print(data.info())"
      ]
    }
  ],
  "metadata": {
    "kernelspec": {
      "display_name": "Python 3",
      "language": "python",
      "name": "python3"
    },
    "language_info": {
      "codemirror_mode": {
        "name": "ipython",
        "version": 3
      },
      "file_extension": ".py",
      "mimetype": "text/x-python",
      "name": "python",
      "nbconvert_exporter": "python",
      "pygments_lexer": "ipython3",
      "version": "3.8.5"
    },
    "colab": {
      "provenance": [],
      "include_colab_link": true
    }
  },
  "nbformat": 4,
  "nbformat_minor": 0
}