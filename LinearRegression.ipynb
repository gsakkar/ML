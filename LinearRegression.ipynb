{
  "nbformat": 4,
  "nbformat_minor": 0,
  "metadata": {
    "colab": {
      "provenance": [],
      "toc_visible": true,
      "authorship_tag": "ABX9TyN65IE+PeD4F9evwCRKNMS8",
      "include_colab_link": true
    },
    "kernelspec": {
      "name": "python3",
      "display_name": "Python 3"
    },
    "language_info": {
      "name": "python"
    }
  },
  "cells": [
    {
      "cell_type": "markdown",
      "metadata": {
        "id": "view-in-github",
        "colab_type": "text"
      },
      "source": [
        "<a href=\"https://colab.research.google.com/github/gsakkar/ML/blob/main/LinearRegression.ipynb\" target=\"_parent\"><img src=\"https://colab.research.google.com/assets/colab-badge.svg\" alt=\"Open In Colab\"/></a>"
      ]
    },
    {
      "cell_type": "markdown",
      "source": [
        "This code performs linear regression using the Keras API. It defines a simple linear regression model, trains it on generated data, makes predictions, and visualizes the results with a plot. The process involves generating sample data, splitting it into training and test sets, initializing and training the model, making predictions, plotting the data, and evaluating model performance."
      ],
      "metadata": {
        "id": "Ih_zahly5UdX"
      }
    },
    {
      "cell_type": "markdown",
      "source": [
        "# **Import Necessary Libraries**\n",
        "\n",
        "* NumPy: Used for numerical operations and generating sample data\n",
        "* TensorFlow and Keras: Used for building and training the linear regression model.\n",
        "* Scikit-learn: Provides the train_test_split function to split the data into training and testing sets.\n",
        "* Matplotlib: Used for plotting the data and the regression line\n",
        "\n",
        "\n",
        "\n"
      ],
      "metadata": {
        "id": "gihWD6ll4Oig"
      }
    },
    {
      "cell_type": "code",
      "source": [
        "import numpy as np\n",
        "import tensorflow as tf\n",
        "from tensorflow.keras.models import Sequential\n",
        "from tensorflow.keras.layers import Dense\n",
        "from tensorflow.keras.optimizers import SGD\n",
        "from sklearn.model_selection import train_test_split\n",
        "import matplotlib.pyplot as plt"
      ],
      "metadata": {
        "id": "z7bu6z8H5fLC"
      },
      "execution_count": 7,
      "outputs": []
    },
    {
      "cell_type": "markdown",
      "source": [
        "# **Define the Linear Regression Model Using Keras**\n",
        "\n",
        "# Class Initialization (init method):\n",
        "\n",
        "* **learning_rate:** The learning rate for the optimizer.\n",
        "* **epochs:** Number of epochs for training.\n",
        "* **self.model:** Defines a Sequential model.\n",
        "* **Dense(1, input_dim=1):** Adds a dense (fully connected) layer with 1 unit and an input dimension of 1.\n",
        "* **self.model.compile**: Compiles the model with stochastic gradient descent (SGD) optimizer and mean squared error loss function.\n",
        "\n",
        "# Fit Method (fit method):\n",
        "\n",
        "Trains the model using the provided training data (X, y) for the specified number of epochs\n",
        "\n",
        "# Predict Method (predict method):\n",
        "\n",
        "Makes predictions using the trained model.\n"
      ],
      "metadata": {
        "id": "0bXyijDa4QSf"
      }
    },
    {
      "cell_type": "code",
      "source": [
        "class LinearRegressionKeras:\n",
        "    def __init__(self, learning_rate=0.01, epochs=100):\n",
        "        self.learning_rate = learning_rate\n",
        "        self.epochs = epochs\n",
        "        self.model = Sequential()\n",
        "        self.model.add(Dense(1, input_dim=1))\n",
        "        self.model.compile(optimizer=SGD(learning_rate=self.learning_rate), loss='mean_squared_error')\n",
        "\n",
        "    def fit(self, X, y):\n",
        "        # Train the model\n",
        "        self.model.fit(X, y, epochs=self.epochs, verbose=1)\n",
        "\n",
        "    def predict(self, X):\n",
        "        # Make predictions\n",
        "        return self.model.predict(X)"
      ],
      "metadata": {
        "id": "jLDn5wjo6mf-"
      },
      "execution_count": 8,
      "outputs": []
    },
    {
      "cell_type": "markdown",
      "source": [
        "# Generate Sample Data and Split into Training and Test Sets\n",
        "\n",
        "* Sample Data Generation:\n",
        "\n",
        "X is generated as random numbers between 0 and 1.\n",
        "y is generated as a linear function of X with some added noise.\n",
        "* Data Splitting:\n",
        "\n",
        "train_test_split splits the data into training and test sets. 80% for training and 20% for testing."
      ],
      "metadata": {
        "id": "34T6Xz1g6jEh"
      }
    },
    {
      "cell_type": "code",
      "source": [
        "# Generate some sample data for training\n",
        "X = np.random.rand(100, 1)\n",
        "y = 3 * X + 2 + np.random.randn(100, 1) * 0.1\n",
        "\n",
        "# Split the data into training and test sets\n",
        "X_train, X_test, y_train, y_test = train_test_split(X, y, test_size=0.2, random_state=42)\n",
        "\n",
        "# print(f\"X_train: {X_train}\")\n",
        "# print(f\"X_test: {X_test}\")\n",
        "# print(f\"y_train: {y_train}\")\n",
        "# print(f\"y_test: {y_test}\")\n"
      ],
      "metadata": {
        "collapsed": true,
        "id": "DIZVLkey7SsY"
      },
      "execution_count": 13,
      "outputs": []
    },
    {
      "cell_type": "markdown",
      "source": [
        "# **Initialize and Train the Model**\n",
        "* Model Initialization:\n",
        "An instance of LinearRegressionKeras is created with specified learning rate and epochs.\n",
        "* Model Training:\n",
        "The fit method trains the model using the training data"
      ],
      "metadata": {
        "id": "3qAdBnXp4Q0g"
      }
    },
    {
      "cell_type": "code",
      "source": [
        "# Initialize and train the linear regression model\n",
        "model = LinearRegressionKeras(learning_rate=0.01, epochs=100)\n",
        "model.fit(X_train, y_train)\n"
      ],
      "metadata": {
        "colab": {
          "base_uri": "https://localhost:8080/"
        },
        "collapsed": true,
        "id": "LLUAqCkm9Fua",
        "outputId": "410dad75-b419-4f0c-b64b-682588db01a3"
      },
      "execution_count": 16,
      "outputs": [
        {
          "output_type": "stream",
          "name": "stdout",
          "text": [
            "Epoch 1/100\n",
            "3/3 [==============================] - 0s 6ms/step - loss: 14.8649\n",
            "Epoch 2/100\n",
            "3/3 [==============================] - 0s 6ms/step - loss: 12.8156\n",
            "Epoch 3/100\n",
            "3/3 [==============================] - 0s 5ms/step - loss: 11.0612\n",
            "Epoch 4/100\n",
            "3/3 [==============================] - 0s 6ms/step - loss: 9.5720\n",
            "Epoch 5/100\n",
            "3/3 [==============================] - 0s 5ms/step - loss: 8.2774\n",
            "Epoch 6/100\n",
            "3/3 [==============================] - 0s 5ms/step - loss: 7.1277\n",
            "Epoch 7/100\n",
            "3/3 [==============================] - 0s 6ms/step - loss: 6.1645\n",
            "Epoch 8/100\n",
            "3/3 [==============================] - 0s 6ms/step - loss: 5.3355\n",
            "Epoch 9/100\n",
            "3/3 [==============================] - 0s 8ms/step - loss: 4.6413\n",
            "Epoch 10/100\n",
            "3/3 [==============================] - 0s 7ms/step - loss: 4.0295\n",
            "Epoch 11/100\n",
            "3/3 [==============================] - 0s 7ms/step - loss: 3.5043\n",
            "Epoch 12/100\n",
            "3/3 [==============================] - 0s 6ms/step - loss: 3.0487\n",
            "Epoch 13/100\n",
            "3/3 [==============================] - 0s 7ms/step - loss: 2.6665\n",
            "Epoch 14/100\n",
            "3/3 [==============================] - 0s 7ms/step - loss: 2.3366\n",
            "Epoch 15/100\n",
            "3/3 [==============================] - 0s 7ms/step - loss: 2.0578\n",
            "Epoch 16/100\n",
            "3/3 [==============================] - 0s 7ms/step - loss: 1.8227\n",
            "Epoch 17/100\n",
            "3/3 [==============================] - 0s 5ms/step - loss: 1.6132\n",
            "Epoch 18/100\n",
            "3/3 [==============================] - 0s 5ms/step - loss: 1.4360\n",
            "Epoch 19/100\n",
            "3/3 [==============================] - 0s 6ms/step - loss: 1.2799\n",
            "Epoch 20/100\n",
            "3/3 [==============================] - 0s 6ms/step - loss: 1.1415\n",
            "Epoch 21/100\n",
            "3/3 [==============================] - 0s 5ms/step - loss: 1.0260\n",
            "Epoch 22/100\n",
            "3/3 [==============================] - 0s 6ms/step - loss: 0.9228\n",
            "Epoch 23/100\n",
            "3/3 [==============================] - 0s 5ms/step - loss: 0.8353\n",
            "Epoch 24/100\n",
            "3/3 [==============================] - 0s 5ms/step - loss: 0.7554\n",
            "Epoch 25/100\n",
            "3/3 [==============================] - 0s 10ms/step - loss: 0.6949\n",
            "Epoch 26/100\n",
            "3/3 [==============================] - 0s 8ms/step - loss: 0.6393\n",
            "Epoch 27/100\n",
            "3/3 [==============================] - 0s 6ms/step - loss: 0.5907\n",
            "Epoch 28/100\n",
            "3/3 [==============================] - 0s 6ms/step - loss: 0.5464\n",
            "Epoch 29/100\n",
            "3/3 [==============================] - 0s 6ms/step - loss: 0.5072\n",
            "Epoch 30/100\n",
            "3/3 [==============================] - 0s 5ms/step - loss: 0.4749\n",
            "Epoch 31/100\n",
            "3/3 [==============================] - 0s 5ms/step - loss: 0.4472\n",
            "Epoch 32/100\n",
            "3/3 [==============================] - 0s 5ms/step - loss: 0.4241\n",
            "Epoch 33/100\n",
            "3/3 [==============================] - 0s 5ms/step - loss: 0.4044\n",
            "Epoch 34/100\n",
            "3/3 [==============================] - 0s 5ms/step - loss: 0.3861\n",
            "Epoch 35/100\n",
            "3/3 [==============================] - 0s 5ms/step - loss: 0.3699\n",
            "Epoch 36/100\n",
            "3/3 [==============================] - 0s 5ms/step - loss: 0.3558\n",
            "Epoch 37/100\n",
            "3/3 [==============================] - 0s 5ms/step - loss: 0.3433\n",
            "Epoch 38/100\n",
            "3/3 [==============================] - 0s 6ms/step - loss: 0.3322\n",
            "Epoch 39/100\n",
            "3/3 [==============================] - 0s 5ms/step - loss: 0.3231\n",
            "Epoch 40/100\n",
            "3/3 [==============================] - 0s 5ms/step - loss: 0.3155\n",
            "Epoch 41/100\n",
            "3/3 [==============================] - 0s 6ms/step - loss: 0.3077\n",
            "Epoch 42/100\n",
            "3/3 [==============================] - 0s 5ms/step - loss: 0.3006\n",
            "Epoch 43/100\n",
            "3/3 [==============================] - 0s 5ms/step - loss: 0.2953\n",
            "Epoch 44/100\n",
            "3/3 [==============================] - 0s 5ms/step - loss: 0.2905\n",
            "Epoch 45/100\n",
            "3/3 [==============================] - 0s 5ms/step - loss: 0.2860\n",
            "Epoch 46/100\n",
            "3/3 [==============================] - 0s 5ms/step - loss: 0.2815\n",
            "Epoch 47/100\n",
            "3/3 [==============================] - 0s 7ms/step - loss: 0.2769\n",
            "Epoch 48/100\n",
            "3/3 [==============================] - 0s 5ms/step - loss: 0.2728\n",
            "Epoch 49/100\n",
            "3/3 [==============================] - 0s 5ms/step - loss: 0.2689\n",
            "Epoch 50/100\n",
            "3/3 [==============================] - 0s 8ms/step - loss: 0.2657\n",
            "Epoch 51/100\n",
            "3/3 [==============================] - 0s 5ms/step - loss: 0.2628\n",
            "Epoch 52/100\n",
            "3/3 [==============================] - 0s 5ms/step - loss: 0.2603\n",
            "Epoch 53/100\n",
            "3/3 [==============================] - 0s 5ms/step - loss: 0.2576\n",
            "Epoch 54/100\n",
            "3/3 [==============================] - 0s 5ms/step - loss: 0.2546\n",
            "Epoch 55/100\n",
            "3/3 [==============================] - 0s 5ms/step - loss: 0.2522\n",
            "Epoch 56/100\n",
            "3/3 [==============================] - 0s 6ms/step - loss: 0.2502\n",
            "Epoch 57/100\n",
            "3/3 [==============================] - 0s 5ms/step - loss: 0.2477\n",
            "Epoch 58/100\n",
            "3/3 [==============================] - 0s 5ms/step - loss: 0.2452\n",
            "Epoch 59/100\n",
            "3/3 [==============================] - 0s 6ms/step - loss: 0.2434\n",
            "Epoch 60/100\n",
            "3/3 [==============================] - 0s 6ms/step - loss: 0.2412\n",
            "Epoch 61/100\n",
            "3/3 [==============================] - 0s 7ms/step - loss: 0.2394\n",
            "Epoch 62/100\n",
            "3/3 [==============================] - 0s 8ms/step - loss: 0.2373\n",
            "Epoch 63/100\n",
            "3/3 [==============================] - 0s 6ms/step - loss: 0.2353\n",
            "Epoch 64/100\n",
            "3/3 [==============================] - 0s 6ms/step - loss: 0.2338\n",
            "Epoch 65/100\n",
            "3/3 [==============================] - 0s 6ms/step - loss: 0.2319\n",
            "Epoch 66/100\n",
            "3/3 [==============================] - 0s 5ms/step - loss: 0.2298\n",
            "Epoch 67/100\n",
            "3/3 [==============================] - 0s 5ms/step - loss: 0.2280\n",
            "Epoch 68/100\n",
            "3/3 [==============================] - 0s 5ms/step - loss: 0.2261\n",
            "Epoch 69/100\n",
            "3/3 [==============================] - 0s 5ms/step - loss: 0.2246\n",
            "Epoch 70/100\n",
            "3/3 [==============================] - 0s 6ms/step - loss: 0.2228\n",
            "Epoch 71/100\n",
            "3/3 [==============================] - 0s 5ms/step - loss: 0.2212\n",
            "Epoch 72/100\n",
            "3/3 [==============================] - 0s 6ms/step - loss: 0.2196\n",
            "Epoch 73/100\n",
            "3/3 [==============================] - 0s 5ms/step - loss: 0.2181\n",
            "Epoch 74/100\n",
            "3/3 [==============================] - 0s 7ms/step - loss: 0.2165\n",
            "Epoch 75/100\n",
            "3/3 [==============================] - 0s 6ms/step - loss: 0.2147\n",
            "Epoch 76/100\n",
            "3/3 [==============================] - 0s 5ms/step - loss: 0.2132\n",
            "Epoch 77/100\n",
            "3/3 [==============================] - 0s 5ms/step - loss: 0.2117\n",
            "Epoch 78/100\n",
            "3/3 [==============================] - 0s 4ms/step - loss: 0.2102\n",
            "Epoch 79/100\n",
            "3/3 [==============================] - 0s 4ms/step - loss: 0.2087\n",
            "Epoch 80/100\n",
            "3/3 [==============================] - 0s 5ms/step - loss: 0.2073\n",
            "Epoch 81/100\n",
            "3/3 [==============================] - 0s 5ms/step - loss: 0.2056\n",
            "Epoch 82/100\n",
            "3/3 [==============================] - 0s 5ms/step - loss: 0.2043\n",
            "Epoch 83/100\n",
            "3/3 [==============================] - 0s 5ms/step - loss: 0.2028\n",
            "Epoch 84/100\n",
            "3/3 [==============================] - 0s 6ms/step - loss: 0.2014\n",
            "Epoch 85/100\n",
            "3/3 [==============================] - 0s 7ms/step - loss: 0.2000\n",
            "Epoch 86/100\n",
            "3/3 [==============================] - 0s 8ms/step - loss: 0.1985\n",
            "Epoch 87/100\n",
            "3/3 [==============================] - 0s 6ms/step - loss: 0.1971\n",
            "Epoch 88/100\n",
            "3/3 [==============================] - 0s 6ms/step - loss: 0.1956\n",
            "Epoch 89/100\n",
            "3/3 [==============================] - 0s 5ms/step - loss: 0.1942\n",
            "Epoch 90/100\n",
            "3/3 [==============================] - 0s 6ms/step - loss: 0.1929\n",
            "Epoch 91/100\n",
            "3/3 [==============================] - 0s 5ms/step - loss: 0.1916\n",
            "Epoch 92/100\n",
            "3/3 [==============================] - 0s 5ms/step - loss: 0.1901\n",
            "Epoch 93/100\n",
            "3/3 [==============================] - 0s 5ms/step - loss: 0.1888\n",
            "Epoch 94/100\n",
            "3/3 [==============================] - 0s 5ms/step - loss: 0.1876\n",
            "Epoch 95/100\n",
            "3/3 [==============================] - 0s 6ms/step - loss: 0.1861\n",
            "Epoch 96/100\n",
            "3/3 [==============================] - 0s 5ms/step - loss: 0.1849\n",
            "Epoch 97/100\n",
            "3/3 [==============================] - 0s 5ms/step - loss: 0.1834\n",
            "Epoch 98/100\n",
            "3/3 [==============================] - 0s 4ms/step - loss: 0.1820\n",
            "Epoch 99/100\n",
            "3/3 [==============================] - 0s 6ms/step - loss: 0.1809\n",
            "Epoch 100/100\n",
            "3/3 [==============================] - 0s 5ms/step - loss: 0.1796\n"
          ]
        }
      ]
    },
    {
      "cell_type": "markdown",
      "source": [
        "# **Make Predictions and Plot the Data**\n",
        "* Predictions:\n",
        "\n",
        "The predict method generates predictions for the test data.\n",
        "\n",
        "* Plotting:\n",
        "\n",
        "plt.scatter: Plots the original data points in blue.\n",
        "plt.plot: Plots the regression line (predictions) in red.\n",
        "plt.xlabel and plt.ylabel: Label the x-axis and y-axis.\n",
        "plt.title: Adds a title to the plot.\n",
        "plt.legend: Adds a legend to differentiate between original data and fitted line.\n",
        "plt.show: Displays the plot."
      ],
      "metadata": {
        "id": "QSEEpZU34RDV"
      }
    },
    {
      "cell_type": "code",
      "source": [
        "# Make predictions\n",
        "predictions = model.predict(X_test)\n",
        "\n",
        "# Plot the data and the regression line\n",
        "plt.figure(figsize=(10, 6))\n",
        "plt.scatter(X, y, color='blue', label='Original Data')\n",
        "plt.plot(X_test, predictions, color='red', linewidth=2, label='Fitted Line')\n",
        "plt.xlabel('X')\n",
        "plt.ylabel('y')\n",
        "plt.title('Linear Regression with Keras')\n",
        "plt.legend()\n",
        "plt.show()\n"
      ],
      "metadata": {
        "colab": {
          "base_uri": "https://localhost:8080/",
          "height": 581
        },
        "id": "lAiHR9L09Kur",
        "outputId": "9137d002-eecb-444d-dd3c-9d8b467c3b5d"
      },
      "execution_count": 17,
      "outputs": [
        {
          "output_type": "stream",
          "name": "stdout",
          "text": [
            "1/1 [==============================] - 0s 53ms/step\n"
          ]
        },
        {
          "output_type": "display_data",
          "data": {
            "text/plain": [
              "<Figure size 1000x600 with 1 Axes>"
            ],
            "image/png": "[encoded data removed]"
          },
          "metadata": {}
        }
      ]
    },
    {
      "cell_type": "markdown",
      "source": [
        "# Evaluate the Model\n",
        "\n",
        "* Model Evaluation:\n",
        "The evaluate method calculates the loss on the test data to assess model performance.\n",
        "The loss is printed out, providing an indication of how well the model fits the test data."
      ],
      "metadata": {
        "id": "5paefgUE5Gkk"
      }
    },
    {
      "cell_type": "code",
      "source": [
        "# Evaluate the model\n",
        "loss = model.model.evaluate(X_test, y_test)\n",
        "print(f\"Test Loss: {loss}\")\n"
      ],
      "metadata": {
        "colab": {
          "base_uri": "https://localhost:8080/"
        },
        "id": "DTG1Tend13rl",
        "outputId": "3edd7c2c-4dc3-45b5-a8b8-152490fd0b6f"
      },
      "execution_count": 19,
      "outputs": [
        {
          "output_type": "stream",
          "name": "stdout",
          "text": [
            "1/1 [==============================] - 0s 27ms/step - loss: 0.0656\n",
            "Test Loss: 0.06555067002773285\n"
          ]
        }
      ]
    }
  ]
}